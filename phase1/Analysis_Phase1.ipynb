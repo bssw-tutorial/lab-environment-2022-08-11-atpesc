{
 "cells": [
  {
   "cell_type": "markdown",
   "id": "9fa6c564",
   "metadata": {},
   "source": [
    "# My Nifty Notebook for Nice Scientific 'Nalysis - Phase 1\n",
    "\n",
    "### Intent\n",
    "\n",
    "This notebook is intended to capture all the lab notes and results as well as high-level assumptions, decisions, and conclusions associated with the phase 1 portion of our larger scientific study.\n",
    "\n",
    "The contents of this notebook do not produce any products directly included in the article.\n",
    "\n",
    "Please refer to the phase 1 README for more information."
   ]
  },
  {
   "cell_type": "markdown",
   "id": "77310377",
   "metadata": {},
   "source": [
    "## Setup & Start"
   ]
  },
  {
   "cell_type": "code",
   "execution_count": null,
   "id": "7822c7d9",
   "metadata": {},
   "outputs": [],
   "source": [
    "As in phase 2 notebook"
   ]
  },
  {
   "cell_type": "markdown",
   "id": "8c19a9b0",
   "metadata": {
    "scrolled": false
   },
   "source": [
    "See phase 1 README for detailed notes regarding data acquisition."
   ]
  },
  {
   "cell_type": "code",
   "execution_count": 2,
   "id": "82e07d9f",
   "metadata": {},
   "outputs": [],
   "source": [
    "Do some stuff"
   ]
  },
  {
   "cell_type": "markdown",
   "id": "a07728fa",
   "metadata": {},
   "source": [
    "## Data Analysis"
   ]
  },
  {
   "cell_type": "code",
   "execution_count": 4,
   "id": "58af2bdd",
   "metadata": {},
   "outputs": [],
   "source": [
    "Do more stuff"
   ]
  },
  {
   "cell_type": "code",
   "execution_count": 7,
   "id": "594186ff",
   "metadata": {},
   "outputs": [
    {
     "name": "stdout",
     "output_type": "stream",
     "text": [
      "\n",
      "Execution terminated at 2022-07-28 20:59:39.608703 UTC\n"
     ]
    }
   ],
   "source": [
    "print()\n",
    "print(f'Execution terminated at {dt.datetime.utcnow()} UTC')"
   ]
  }
 ],
 "metadata": {
  "kernelspec": {
   "display_name": "Python 3 (ipykernel)",
   "language": "python",
   "name": "python3"
  },
  "language_info": {
   "codemirror_mode": {
    "name": "ipython",
    "version": 3
   },
   "file_extension": ".py",
   "mimetype": "text/x-python",
   "name": "python",
   "nbconvert_exporter": "python",
   "pygments_lexer": "ipython3",
   "version": "3.9.9"
  }
 },
 "nbformat": 4,
 "nbformat_minor": 5
}
